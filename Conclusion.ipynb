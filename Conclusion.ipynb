{
 "cells": [
  {
   "cell_type": "markdown",
   "metadata": {},
   "source": [
    "# Conclusion\n",
    "Determine which pitching statistic actually contributes to ones offense providing lesser run support.\n",
    "\n",
    "### Author: Solomon Stevens\n",
    "### Date: August 4th, 2024\n",
    "\n",
    "* Read in the data set used for machine learning\n",
    "* Determine which independant variable has the strongest correlation to a lack of run support"
   ]
  },
  {
   "cell_type": "code",
   "execution_count": 1,
   "metadata": {},
   "outputs": [],
   "source": [
    "# Imports\n",
    "import pandas as pd"
   ]
  },
  {
   "cell_type": "code",
   "execution_count": 3,
   "metadata": {},
   "outputs": [
    {
     "name": "stdout",
     "output_type": "stream",
     "text": [
      "   lack_of_run_support  home_run  p_unearned_run  k_percent  \\\n",
      "0                    0  0.642857        0.173913   0.322476   \n",
      "1                    1  0.500000        0.391304   0.247557   \n",
      "2                    1  0.452381        0.521739   0.442997   \n",
      "3                    0  0.333333        0.391304   0.423453   \n",
      "4                    0  0.476190        0.260870   0.306189   \n",
      "\n",
      "   barrel_batted_rate  hard_hit_percent  \n",
      "0            0.457364          0.357430  \n",
      "1            0.348837          0.421687  \n",
      "2            0.317829          0.626506  \n",
      "3            0.255814          0.590361  \n",
      "4            0.387597          0.674699  \n"
     ]
    }
   ],
   "source": [
    "# Read in the data\n",
    "df = pd.read_csv('stats_ML.csv')\n",
    "\n",
    "print(df.head())"
   ]
  },
  {
   "cell_type": "code",
   "execution_count": 10,
   "metadata": {},
   "outputs": [],
   "source": [
    "# Create an empty list\n",
    "corr_list = []\n",
    "\n",
    "# Append each correlation to the list\n",
    "corr_list.append(abs(df.lack_of_run_support.corr(df.home_run)))\n",
    "corr_list.append(abs(df.lack_of_run_support.corr(df.p_unearned_run)))\n",
    "corr_list.append(abs(df.lack_of_run_support.corr(df.k_percent)))\n",
    "corr_list.append(abs(df.lack_of_run_support.corr(df.barrel_batted_rate)))\n",
    "corr_list.append(abs(df.lack_of_run_support.corr(df.hard_hit_percent)))"
   ]
  },
  {
   "cell_type": "code",
   "execution_count": 11,
   "metadata": {},
   "outputs": [
    {
     "name": "stdout",
     "output_type": "stream",
     "text": [
      "[np.float64(0.151351670225487), np.float64(0.14665210673139123), np.float64(0.08442802549283343), np.float64(0.06297838356519922), np.float64(0.04706934633333991)]\n"
     ]
    }
   ],
   "source": [
    "# Sort the list\n",
    "#-> reverse=True means the list is sorted in descending order\n",
    "corr_list.sort(reverse=True)\n",
    "\n",
    "# Print the output\n",
    "print(corr_list)"
   ]
  },
  {
   "cell_type": "code",
   "execution_count": 13,
   "metadata": {},
   "outputs": [
    {
     "name": "stdout",
     "output_type": "stream",
     "text": [
      "Home Runs Allowed: -0.151351670225487\n",
      "Unearned Runs Allowed: 0.04706934633333991\n",
      "Strikeout Percent: 0.06297838356519922\n",
      "Barreled Ball Rate: -0.14665210673139123\n",
      "Hard Hit Percent: -0.08442802549283343\n"
     ]
    }
   ],
   "source": [
    "# Determine which coefficient has the highest correlation\n",
    "print('Home Runs Allowed:', df.lack_of_run_support.corr(df.home_run))\n",
    "print('Unearned Runs Allowed:', df.lack_of_run_support.corr(df.p_unearned_run))\n",
    "print('Strikeout Percent:', df.lack_of_run_support.corr(df.k_percent))\n",
    "print('Barreled Ball Rate:', df.lack_of_run_support.corr(df.barrel_batted_rate))\n",
    "print('Hard Hit Percent:', df.lack_of_run_support.corr(df.hard_hit_percent))"
   ]
  },
  {
   "cell_type": "markdown",
   "metadata": {},
   "source": [
    "Strongest correlation is with Home Runs Allowed\n",
    "* The more home runs one allows means the more likely his offense won't help him out"
   ]
  }
 ],
 "metadata": {
  "kernelspec": {
   "display_name": ".capstone_venv",
   "language": "python",
   "name": "python3"
  },
  "language_info": {
   "codemirror_mode": {
    "name": "ipython",
    "version": 3
   },
   "file_extension": ".py",
   "mimetype": "text/x-python",
   "name": "python",
   "nbconvert_exporter": "python",
   "pygments_lexer": "ipython3",
   "version": "3.11.9"
  }
 },
 "nbformat": 4,
 "nbformat_minor": 2
}
